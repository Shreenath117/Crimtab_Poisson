{
 "cells": [
  {
   "cell_type": "markdown",
   "metadata": {},
   "source": [
    "# Answer to Question 1 :\n",
    "Reading the csv file using pandas and storing it in a dataframe"
   ]
  },
  {
   "cell_type": "code",
   "execution_count": 40,
   "metadata": {},
   "outputs": [],
   "source": [
    "import pandas as pd\n",
    "from matplotlib import pyplot as plt\n",
    "data = pd.read_csv(\"crimtab.csv\", header=0, infer_datetime_format=True, parse_dates=[0], index_col=[0])"
   ]
  },
  {
   "cell_type": "code",
   "execution_count": 41,
   "metadata": {},
   "outputs": [
    {
     "data": {
      "text/plain": [
       "(924, 3)"
      ]
     },
     "execution_count": 41,
     "metadata": {},
     "output_type": "execute_result"
    }
   ],
   "source": [
    "# Checking the shape of the data (dimensions)\n",
    "data.shape\n",
    "\n",
    "# 924 rows and 3 columns"
   ]
  },
  {
   "cell_type": "code",
   "execution_count": 42,
   "metadata": {},
   "outputs": [
    {
     "data": {
      "text/html": [
       "<div>\n",
       "<style scoped>\n",
       "    .dataframe tbody tr th:only-of-type {\n",
       "        vertical-align: middle;\n",
       "    }\n",
       "\n",
       "    .dataframe tbody tr th {\n",
       "        vertical-align: top;\n",
       "    }\n",
       "\n",
       "    .dataframe thead th {\n",
       "        text-align: right;\n",
       "    }\n",
       "</style>\n",
       "<table border=\"1\" class=\"dataframe\">\n",
       "  <thead>\n",
       "    <tr style=\"text-align: right;\">\n",
       "      <th></th>\n",
       "      <th>Var1</th>\n",
       "      <th>Var2</th>\n",
       "      <th>Freq</th>\n",
       "    </tr>\n",
       "  </thead>\n",
       "  <tbody>\n",
       "    <tr>\n",
       "      <td>1</td>\n",
       "      <td>9.4</td>\n",
       "      <td>142.24</td>\n",
       "      <td>0</td>\n",
       "    </tr>\n",
       "    <tr>\n",
       "      <td>2</td>\n",
       "      <td>9.5</td>\n",
       "      <td>142.24</td>\n",
       "      <td>0</td>\n",
       "    </tr>\n",
       "    <tr>\n",
       "      <td>3</td>\n",
       "      <td>9.6</td>\n",
       "      <td>142.24</td>\n",
       "      <td>0</td>\n",
       "    </tr>\n",
       "    <tr>\n",
       "      <td>4</td>\n",
       "      <td>9.7</td>\n",
       "      <td>142.24</td>\n",
       "      <td>0</td>\n",
       "    </tr>\n",
       "    <tr>\n",
       "      <td>5</td>\n",
       "      <td>9.8</td>\n",
       "      <td>142.24</td>\n",
       "      <td>0</td>\n",
       "    </tr>\n",
       "  </tbody>\n",
       "</table>\n",
       "</div>"
      ],
      "text/plain": [
       "   Var1    Var2  Freq\n",
       "1   9.4  142.24     0\n",
       "2   9.5  142.24     0\n",
       "3   9.6  142.24     0\n",
       "4   9.7  142.24     0\n",
       "5   9.8  142.24     0"
      ]
     },
     "execution_count": 42,
     "metadata": {},
     "output_type": "execute_result"
    }
   ],
   "source": [
    "data.head()"
   ]
  },
  {
   "cell_type": "markdown",
   "metadata": {},
   "source": [
    "# Answer to Question 2 :"
   ]
  },
  {
   "cell_type": "markdown",
   "metadata": {},
   "source": [
    "The key objective of the case study is to model/predict the \"Frequency\" using predictor variables var1 and var2 denoting finger length and height respectively\n",
    "\n",
    "The response variable : Freq as we see is a \"count\" variable "
   ]
  },
  {
   "cell_type": "markdown",
   "metadata": {},
   "source": [
    "# Answer to Question 3 :"
   ]
  },
  {
   "cell_type": "code",
   "execution_count": 43,
   "metadata": {},
   "outputs": [
    {
     "data": {
      "text/html": [
       "<div>\n",
       "<style scoped>\n",
       "    .dataframe tbody tr th:only-of-type {\n",
       "        vertical-align: middle;\n",
       "    }\n",
       "\n",
       "    .dataframe tbody tr th {\n",
       "        vertical-align: top;\n",
       "    }\n",
       "\n",
       "    .dataframe thead th {\n",
       "        text-align: right;\n",
       "    }\n",
       "</style>\n",
       "<table border=\"1\" class=\"dataframe\">\n",
       "  <thead>\n",
       "    <tr style=\"text-align: right;\">\n",
       "      <th></th>\n",
       "      <th>0</th>\n",
       "    </tr>\n",
       "  </thead>\n",
       "  <tbody>\n",
       "    <tr>\n",
       "      <td>Mean</td>\n",
       "      <td>3.246753</td>\n",
       "    </tr>\n",
       "    <tr>\n",
       "      <td>Variance</td>\n",
       "      <td>68.753781</td>\n",
       "    </tr>\n",
       "    <tr>\n",
       "      <td>Ratio</td>\n",
       "      <td>21.176165</td>\n",
       "    </tr>\n",
       "  </tbody>\n",
       "</table>\n",
       "</div>"
      ],
      "text/plain": [
       "                  0\n",
       "Mean       3.246753\n",
       "Variance  68.753781\n",
       "Ratio     21.176165"
      ]
     },
     "execution_count": 43,
     "metadata": {},
     "output_type": "execute_result"
    }
   ],
   "source": [
    "pd.DataFrame([data[\"Freq\"].mean(), data[\"Freq\"].var(), data[\"Freq\"].var()/data[\"Freq\"].mean()], index=['Mean','Variance','Ratio'])"
   ]
  },
  {
   "cell_type": "markdown",
   "metadata": {},
   "source": [
    "# Answer to Question 4 :"
   ]
  },
  {
   "cell_type": "markdown",
   "metadata": {},
   "source": [
    "Observations :\n",
    "The mean Freq is 3.25 and the variance is 68.75, ~21% of the mean. \n",
    "The data is clearly over-dispersed"
   ]
  },
  {
   "cell_type": "markdown",
   "metadata": {},
   "source": [
    "# Answer to Question 5 :\n",
    "\n",
    "Summarising the dataset provided"
   ]
  },
  {
   "cell_type": "code",
   "execution_count": 44,
   "metadata": {},
   "outputs": [
    {
     "data": {
      "text/html": [
       "<div>\n",
       "<style scoped>\n",
       "    .dataframe tbody tr th:only-of-type {\n",
       "        vertical-align: middle;\n",
       "    }\n",
       "\n",
       "    .dataframe tbody tr th {\n",
       "        vertical-align: top;\n",
       "    }\n",
       "\n",
       "    .dataframe thead th {\n",
       "        text-align: right;\n",
       "    }\n",
       "</style>\n",
       "<table border=\"1\" class=\"dataframe\">\n",
       "  <thead>\n",
       "    <tr style=\"text-align: right;\">\n",
       "      <th></th>\n",
       "      <th>Var1</th>\n",
       "      <th>Var2</th>\n",
       "      <th>Freq</th>\n",
       "    </tr>\n",
       "  </thead>\n",
       "  <tbody>\n",
       "    <tr>\n",
       "      <td>count</td>\n",
       "      <td>924.000000</td>\n",
       "      <td>924.000000</td>\n",
       "      <td>924.000000</td>\n",
       "    </tr>\n",
       "    <tr>\n",
       "      <td>mean</td>\n",
       "      <td>11.450000</td>\n",
       "      <td>168.910000</td>\n",
       "      <td>3.246753</td>\n",
       "    </tr>\n",
       "    <tr>\n",
       "      <td>std</td>\n",
       "      <td>1.212748</td>\n",
       "      <td>16.123221</td>\n",
       "      <td>8.291790</td>\n",
       "    </tr>\n",
       "    <tr>\n",
       "      <td>min</td>\n",
       "      <td>9.400000</td>\n",
       "      <td>142.240000</td>\n",
       "      <td>0.000000</td>\n",
       "    </tr>\n",
       "    <tr>\n",
       "      <td>25%</td>\n",
       "      <td>10.400000</td>\n",
       "      <td>154.940000</td>\n",
       "      <td>0.000000</td>\n",
       "    </tr>\n",
       "    <tr>\n",
       "      <td>50%</td>\n",
       "      <td>11.450000</td>\n",
       "      <td>168.910000</td>\n",
       "      <td>0.000000</td>\n",
       "    </tr>\n",
       "    <tr>\n",
       "      <td>75%</td>\n",
       "      <td>12.500000</td>\n",
       "      <td>182.880000</td>\n",
       "      <td>1.000000</td>\n",
       "    </tr>\n",
       "    <tr>\n",
       "      <td>max</td>\n",
       "      <td>13.500000</td>\n",
       "      <td>195.580000</td>\n",
       "      <td>58.000000</td>\n",
       "    </tr>\n",
       "  </tbody>\n",
       "</table>\n",
       "</div>"
      ],
      "text/plain": [
       "             Var1        Var2        Freq\n",
       "count  924.000000  924.000000  924.000000\n",
       "mean    11.450000  168.910000    3.246753\n",
       "std      1.212748   16.123221    8.291790\n",
       "min      9.400000  142.240000    0.000000\n",
       "25%     10.400000  154.940000    0.000000\n",
       "50%     11.450000  168.910000    0.000000\n",
       "75%     12.500000  182.880000    1.000000\n",
       "max     13.500000  195.580000   58.000000"
      ]
     },
     "execution_count": 44,
     "metadata": {},
     "output_type": "execute_result"
    }
   ],
   "source": [
    "data.describe()"
   ]
  },
  {
   "cell_type": "markdown",
   "metadata": {},
   "source": [
    "Observations :\n",
    "Here : var 1 denotes the prisoner's finger length\n",
    "Var1 has max value of 13.5 and median of 11.45\n",
    "\n",
    "Var 2 denotes for the prisoner's height\n",
    "Var2 has max value of 195.6 and median of 168.9\n",
    "\n",
    "Freq has a max value of 58 with mean of 3.25"
   ]
  },
  {
   "cell_type": "markdown",
   "metadata": {},
   "source": [
    "# Answer to Question 6 :"
   ]
  },
  {
   "cell_type": "code",
   "execution_count": 47,
   "metadata": {},
   "outputs": [
    {
     "data": {
      "text/plain": [
       "<seaborn.axisgrid.PairGrid at 0x2818b18d208>"
      ]
     },
     "execution_count": 47,
     "metadata": {},
     "output_type": "execute_result"
    },
    {
     "data": {
      "image/png": "[encoded data removed]",
      "text/plain": [
       "<Figure size 540x540 with 12 Axes>"
      ]
     },
     "metadata": {},
     "output_type": "display_data"
    }
   ],
   "source": [
    "# Scatter plot matrix\n",
    "import seaborn as sns\n",
    "sns.set(style=\"ticks\")\n",
    "sns.pairplot(data)"
   ]
  },
  {
   "cell_type": "markdown",
   "metadata": {},
   "source": [
    "# Answer to Question 7 :"
   ]
  },
  {
   "cell_type": "code",
   "execution_count": 49,
   "metadata": {},
   "outputs": [
    {
     "name": "stdout",
     "output_type": "stream",
     "text": [
      "              Var1          Var2      Freq\n",
      "Var1  1.000000e+00  1.338582e-17  0.031471\n",
      "Var2  1.338582e-17  1.000000e+00 -0.063420\n",
      "Freq  3.147103e-02 -6.341962e-02  1.000000\n"
     ]
    }
   ],
   "source": [
    "corrMatrix = data.corr()\n",
    "print (corrMatrix)\n",
    "\n",
    "# Looking at the plot : it seems var1 and var2 are highly correlated  with each other\n",
    "# Also : Freq the response/target variable is more correlated with var 1 (finger length) than var 2 (height)"
   ]
  },
  {
   "cell_type": "markdown",
   "metadata": {},
   "source": [
    "# Answer to Question 8 :"
   ]
  },
  {
   "cell_type": "code",
   "execution_count": 46,
   "metadata": {},
   "outputs": [
    {
     "data": {
      "image/png": "[encoded data removed]",
      "text/plain": [
       "<Figure size 432x288 with 1 Axes>"
      ]
     },
     "metadata": {
      "needs_background": "light"
     },
     "output_type": "display_data"
    }
   ],
   "source": [
    "plt.hist(data[\"Freq\"])\n",
    "plt.show()"
   ]
  },
  {
   "cell_type": "markdown",
   "metadata": {},
   "source": [
    "Observations :\n",
    "a) The distribution here clearly looks like a Poisson Distribution\n",
    "b) It looks clumped at 0 (total zeroes : 285 out of 900 overall)\n",
    "c) Histogram indicates that this dataset has abundance of zeroes"
   ]
  },
  {
   "cell_type": "markdown",
   "metadata": {},
   "source": [
    "# Answer to Question 9 :"
   ]
  },
  {
   "cell_type": "code",
   "execution_count": null,
   "metadata": {},
   "outputs": [],
   "source": [
    "# We have seen that the response variable \"Freq\" is clearly a count variable.\n",
    "# The distribution as we clearly see isn't normal which the implementation of linear regression model assumptions require.\n",
    "# The count data does not follow a normal distribution, because it simply can not and \n",
    "# hence, simple linear regression is not the way to go. \n",
    "# Hence, we go for Poisson , Negative Binomial models for count variables."
   ]
  },
  {
   "cell_type": "markdown",
   "metadata": {},
   "source": [
    "# Answer to Question 10 :"
   ]
  },
  {
   "cell_type": "code",
   "execution_count": 50,
   "metadata": {},
   "outputs": [
    {
     "name": "stdout",
     "output_type": "stream",
     "text": [
      "Var1    float64\n",
      "Var2    float64\n",
      "Freq      int64\n",
      "dtype: object\n"
     ]
    }
   ],
   "source": [
    "# Check datatypes of all variables in the given dataset\n",
    "print(data.dtypes)"
   ]
  },
  {
   "cell_type": "markdown",
   "metadata": {},
   "source": [
    "# Answer to Question 11:"
   ]
  },
  {
   "cell_type": "markdown",
   "metadata": {},
   "source": [
    "Fitting a Poisson Model\n",
    "GLM with poisson in Python"
   ]
  },
  {
   "cell_type": "code",
   "execution_count": 51,
   "metadata": {},
   "outputs": [],
   "source": [
    "import statsmodels.api as sm\n",
    "from statsmodels.formula.api import glm"
   ]
  },
  {
   "cell_type": "code",
   "execution_count": 52,
   "metadata": {},
   "outputs": [
    {
     "name": "stdout",
     "output_type": "stream",
     "text": [
      "                 Generalized Linear Model Regression Results                  \n",
      "==============================================================================\n",
      "Dep. Variable:                   Freq   No. Observations:                  924\n",
      "Model:                            GLM   Df Residuals:                      921\n",
      "Model Family:                 Poisson   Df Model:                            2\n",
      "Link Function:                    log   Scale:                          1.0000\n",
      "Method:                          IRLS   Log-Likelihood:                -5626.5\n",
      "Date:                Mon, 06 Apr 2020   Deviance:                       10209.\n",
      "Time:                        10:21:32   Pearson chi2:                 1.92e+04\n",
      "No. Iterations:                     6                                         \n",
      "Covariance Type:            nonrobust                                         \n",
      "==============================================================================\n",
      "                 coef    std err          z      P>|z|      [0.025      0.975]\n",
      "------------------------------------------------------------------------------\n",
      "Intercept      2.1072      0.258      8.155      0.000       1.601       2.614\n",
      "Var1           0.0664      0.015      4.397      0.000       0.037       0.096\n",
      "Var2          -0.0101      0.001     -8.843      0.000      -0.012      -0.008\n",
      "==============================================================================\n"
     ]
    }
   ],
   "source": [
    "data_pois=glm('Freq ~ Var1+Var2', data = data,\n",
    "family = sm.families.Poisson()).fit()\n",
    "print(data_pois.summary())"
   ]
  },
  {
   "cell_type": "markdown",
   "metadata": {},
   "source": [
    "# Answer to Question 12 :"
   ]
  },
  {
   "cell_type": "markdown",
   "metadata": {},
   "source": [
    "AIC stands for : Akaike Information Criterion or AIC is an alternative criterion for model selection and is based on log of maximum likelihood function under the assumed model when the model dimension is also unknown\n",
    "AIC does not provide a test for model fit but makes a statement about the relative quality of models and the model with smallest AIC is prefered."
   ]
  },
  {
   "cell_type": "markdown",
   "metadata": {},
   "source": [
    "# Answer to Question 13 :\n",
    "Outliers/Leverage/Influence Points"
   ]
  },
  {
   "cell_type": "code",
   "execution_count": 53,
   "metadata": {},
   "outputs": [
    {
     "data": {
      "image/png": "[encoded data removed]",
      "text/plain": [
       "<Figure size 432x288 with 1 Axes>"
      ]
     },
     "execution_count": 53,
     "metadata": {},
     "output_type": "execute_result"
    },
    {
     "data": {
      "image/png": "[encoded data removed]",
      "text/plain": [
       "<Figure size 432x288 with 1 Axes>"
      ]
     },
     "metadata": {},
     "output_type": "display_data"
    }
   ],
   "source": [
    "infl = data_pois.get_influence(observed=False)\n",
    "infl.plot_influence()"
   ]
  },
  {
   "cell_type": "code",
   "execution_count": 55,
   "metadata": {},
   "outputs": [
    {
     "data": {
      "text/html": [
       "<div>\n",
       "<style scoped>\n",
       "    .dataframe tbody tr th:only-of-type {\n",
       "        vertical-align: middle;\n",
       "    }\n",
       "\n",
       "    .dataframe tbody tr th {\n",
       "        vertical-align: top;\n",
       "    }\n",
       "\n",
       "    .dataframe thead th {\n",
       "        text-align: right;\n",
       "    }\n",
       "</style>\n",
       "<table border=\"1\" class=\"dataframe\">\n",
       "  <thead>\n",
       "    <tr style=\"text-align: right;\">\n",
       "      <th></th>\n",
       "      <th>Var1</th>\n",
       "      <th>Var2</th>\n",
       "      <th>Freq</th>\n",
       "    </tr>\n",
       "  </thead>\n",
       "  <tbody>\n",
       "    <tr>\n",
       "      <td>357</td>\n",
       "      <td>11.4</td>\n",
       "      <td>162.56</td>\n",
       "      <td>56</td>\n",
       "    </tr>\n",
       "    <tr>\n",
       "      <td>398</td>\n",
       "      <td>11.3</td>\n",
       "      <td>165.10</td>\n",
       "      <td>39</td>\n",
       "    </tr>\n",
       "    <tr>\n",
       "      <td>399</td>\n",
       "      <td>11.4</td>\n",
       "      <td>165.10</td>\n",
       "      <td>58</td>\n",
       "    </tr>\n",
       "    <tr>\n",
       "      <td>400</td>\n",
       "      <td>11.5</td>\n",
       "      <td>165.10</td>\n",
       "      <td>57</td>\n",
       "    </tr>\n",
       "    <tr>\n",
       "      <td>443</td>\n",
       "      <td>11.6</td>\n",
       "      <td>167.64</td>\n",
       "      <td>48</td>\n",
       "    </tr>\n",
       "    <tr>\n",
       "      <td>444</td>\n",
       "      <td>11.7</td>\n",
       "      <td>167.64</td>\n",
       "      <td>48</td>\n",
       "    </tr>\n",
       "    <tr>\n",
       "      <td>445</td>\n",
       "      <td>11.8</td>\n",
       "      <td>167.64</td>\n",
       "      <td>41</td>\n",
       "    </tr>\n",
       "    <tr>\n",
       "      <td>447</td>\n",
       "      <td>12.0</td>\n",
       "      <td>167.64</td>\n",
       "      <td>42</td>\n",
       "    </tr>\n",
       "    <tr>\n",
       "      <td>486</td>\n",
       "      <td>11.7</td>\n",
       "      <td>170.18</td>\n",
       "      <td>45</td>\n",
       "    </tr>\n",
       "    <tr>\n",
       "      <td>489</td>\n",
       "      <td>12.0</td>\n",
       "      <td>170.18</td>\n",
       "      <td>39</td>\n",
       "    </tr>\n",
       "  </tbody>\n",
       "</table>\n",
       "</div>"
      ],
      "text/plain": [
       "     Var1    Var2  Freq\n",
       "357  11.4  162.56    56\n",
       "398  11.3  165.10    39\n",
       "399  11.4  165.10    58\n",
       "400  11.5  165.10    57\n",
       "443  11.6  167.64    48\n",
       "444  11.7  167.64    48\n",
       "445  11.8  167.64    41\n",
       "447  12.0  167.64    42\n",
       "486  11.7  170.18    45\n",
       "489  12.0  170.18    39"
      ]
     },
     "execution_count": 55,
     "metadata": {},
     "output_type": "execute_result"
    }
   ],
   "source": [
    "# 10 observations are nominated as large + outliers: (as we see above in the leverage plot + at extremes )\n",
    "data.loc[[357,398,399,400,443,444,445,447,486,489], :]"
   ]
  },
  {
   "cell_type": "markdown",
   "metadata": {},
   "source": [
    "# Answer to Question 14 :\n",
    "Poisson Model goodness of fit"
   ]
  },
  {
   "cell_type": "code",
   "execution_count": 56,
   "metadata": {},
   "outputs": [
    {
     "name": "stdout",
     "output_type": "stream",
     "text": [
      "                 Generalized Linear Model Regression Results                  \n",
      "==============================================================================\n",
      "Dep. Variable:                   Freq   No. Observations:                  924\n",
      "Model:                            GLM   Df Residuals:                      921\n",
      "Model Family:                 Poisson   Df Model:                            2\n",
      "Link Function:                    log   Scale:                          1.0000\n",
      "Method:                          IRLS   Log-Likelihood:                -5626.5\n",
      "Date:                Mon, 06 Apr 2020   Deviance:                       10209.\n",
      "Time:                        10:24:33   Pearson chi2:                 1.92e+04\n",
      "No. Iterations:                     6                                         \n",
      "Covariance Type:            nonrobust                                         \n",
      "==============================================================================\n",
      "                 coef    std err          z      P>|z|      [0.025      0.975]\n",
      "------------------------------------------------------------------------------\n",
      "Intercept      2.1072      0.258      8.155      0.000       1.601       2.614\n",
      "Var1           0.0664      0.015      4.397      0.000       0.037       0.096\n",
      "Var2          -0.0101      0.001     -8.843      0.000      -0.012      -0.008\n",
      "==============================================================================\n"
     ]
    }
   ],
   "source": [
    "print(data_pois.summary())\n",
    "# The output from summary(data.pois) above showed that the Poisson model fits quite badly. \n",
    "\n",
    "# The residual deviance is way too higher than the residual degrees of freedom\n",
    "# If the asssumed model (Poisson) fits the data well, the residual deviance are expected to be \n",
    "# approximately equal to the residual degrees of freedom."
   ]
  },
  {
   "cell_type": "markdown",
   "metadata": {},
   "source": [
    "# Answer to Question 15 :\n",
    "Check overdispersion of data"
   ]
  },
  {
   "cell_type": "code",
   "execution_count": 57,
   "metadata": {},
   "outputs": [
    {
     "data": {
      "text/plain": [
       "20.82852968716273"
      ]
     },
     "execution_count": 57,
     "metadata": {},
     "output_type": "execute_result"
    }
   ],
   "source": [
    "# As, we clearly saw in answer 2:  As, we clearly saw in answer 2:  The mean Freq is 3.25 and the variance is 68.75, \n",
    "# ~21% of the mean. \n",
    "\n",
    "# Thus the data are highly over dispersed\n",
    "\n",
    "# Variance > Mean : Overdispersion\n",
    "\n",
    "# If the variance is equal to the mean, the dispersion statistic would equal one.\n",
    "# When the dispersion statistic is close to one, a Poisson model fits. \n",
    "# If it is larger than one, a negative binomial model fits better.\n",
    "\n",
    "# The existence of overdispersion leads to the requirement of alternative models that fit the data better.\n",
    "# Overdispersion is a common phenomenon with count data which is due to either excess of zeros or heterogeneity of population.\n",
    "\n",
    "\n",
    "#Overdisperson Test\n",
    "data_pois.pearson_chi2 / data_pois.df_resid\n",
    "#where .pearson_chi2 represents Pearson statistic and .df_resid represents the degrees of freedom of the residuals.\n",
    "\n",
    "#The value > 1 shows it is highly overdispersed and Poisson model is not a good fit for overdispersed data. Need to lookout for alternatives"
   ]
  },
  {
   "cell_type": "markdown",
   "metadata": {},
   "source": [
    "# Answer to Question 16 :\n",
    "Name the alternative model"
   ]
  },
  {
   "cell_type": "code",
   "execution_count": 19,
   "metadata": {},
   "outputs": [],
   "source": [
    "# Alternative model which you would use to take care of over-dispersion is : \n",
    "# \"Negative Binomial\" model\n",
    "\n",
    "# The negative-binomial model is a different generalization of the Poisson that allows for over-dispersion"
   ]
  },
  {
   "cell_type": "markdown",
   "metadata": {},
   "source": [
    "# Answer to Question 17 :\n",
    "Package to implement the alternative model"
   ]
  },
  {
   "cell_type": "code",
   "execution_count": 58,
   "metadata": {},
   "outputs": [],
   "source": [
    "import statsmodels.api as sm\n",
    "from statsmodels.formula.api import glm"
   ]
  },
  {
   "cell_type": "markdown",
   "metadata": {},
   "source": [
    "# Answer to Question 18 :\n",
    "Fitting the Alternative model (Negative Binomial)"
   ]
  },
  {
   "cell_type": "code",
   "execution_count": 63,
   "metadata": {},
   "outputs": [
    {
     "name": "stdout",
     "output_type": "stream",
     "text": [
      "                 Generalized Linear Model Regression Results                  \n",
      "==============================================================================\n",
      "Dep. Variable:                   Freq   No. Observations:                  924\n",
      "Model:                            GLM   Df Residuals:                      921\n",
      "Model Family:        NegativeBinomial   Df Model:                            2\n",
      "Link Function:                    log   Scale:                          1.0000\n",
      "Method:                          IRLS   Log-Likelihood:                -2103.4\n",
      "Date:                Mon, 06 Apr 2020   Deviance:                       2563.7\n",
      "Time:                        10:26:12   Pearson chi2:                 4.24e+03\n",
      "No. Iterations:                    30                                         \n",
      "Covariance Type:            nonrobust                                         \n",
      "==============================================================================\n",
      "                 coef    std err          z      P>|z|      [0.025      0.975]\n",
      "------------------------------------------------------------------------------\n",
      "Intercept      3.5134      0.538      6.532      0.000       2.459       4.568\n",
      "Var1           0.2610      0.032      8.217      0.000       0.199       0.323\n",
      "Var2          -0.0319      0.002    -13.215      0.000      -0.037      -0.027\n",
      "==============================================================================\n"
     ]
    }
   ],
   "source": [
    "data_nbin=glm('Freq~ Var1+Var2', data = data,\n",
    "family = sm.families.NegativeBinomial(alpha=1)).fit()\n",
    "print(data_nbin.summary())"
   ]
  },
  {
   "cell_type": "markdown",
   "metadata": {},
   "source": [
    "# Answer to Question 19 :\n",
    "Poisson vs. Alternative model (Negative Binomial)"
   ]
  },
  {
   "cell_type": "code",
   "execution_count": 38,
   "metadata": {},
   "outputs": [],
   "source": [
    "# Observations: (Negative Binomial Model)\n",
    "# Comparing Log-Lokelihood for both the models and as we the residual deviance from degrees of freedom\n",
    "# Much better model as compared to the Poisson\n",
    "# Here : it's clearly observed : NB model performs better than Poisson due to over dispersion\n",
    "# and is a good fit (Residual deviance is closer to the residual degrees of freedom)"
   ]
  },
  {
   "cell_type": "markdown",
   "metadata": {},
   "source": [
    "# Answer to Question 20 :\n",
    "Zero Inflated and Hurdle Models"
   ]
  },
  {
   "cell_type": "code",
   "execution_count": 61,
   "metadata": {},
   "outputs": [],
   "source": [
    "# Zero Inflated & Hurdle Models\n",
    "\n",
    "# Hurdle models assume that there is only one process by which a zero can be produced, \n",
    "# while zero-inflated models assume that there are 2 different processes that can produce a zero.\n",
    "\n",
    "# Hurdle models assume 2 types of subjects: \n",
    "# (1) those who never experience the outcome and \n",
    "# (2) those who always experience the outcome at least once. \n",
    "\n",
    "# Zero-inflated models conceptualize subjects: \n",
    "# (1) those who never experience the outcome and \n",
    "# (2) those who can experience the outcome but don't always.\n",
    "\n",
    "# To implement in Python : we need to import from the below library :\n",
    "from statsmodels.discrete.discrete_model import (DiscreteModel, CountModel,\n",
    "                                                 Poisson, Logit, CountResults,\n",
    "                                                 L1CountResults, Probit,\n",
    "                                                 _discrete_results_docs,\n",
    "                                                 _validate_l1_method,\n",
    "                                                 GeneralizedPoisson,\n",
    "                                                 NegativeBinomialP)\n",
    "from statsmodels.distributions import zipoisson, zigenpoisson, zinegbin"
   ]
  }
 ],
 "metadata": {
  "kernelspec": {
   "display_name": "Python 3",
   "language": "python",
   "name": "python3"
  },
  "language_info": {
   "codemirror_mode": {
    "name": "ipython",
    "version": 3
   },
   "file_extension": ".py",
   "mimetype": "text/x-python",
   "name": "python",
   "nbconvert_exporter": "python",
   "pygments_lexer": "ipython3",
   "version": "3.7.4"
  }
 },
 "nbformat": 4,
 "nbformat_minor": 2
}
